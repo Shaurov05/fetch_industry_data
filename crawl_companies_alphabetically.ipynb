{
 "cells": [
  {
   "cell_type": "code",
   "execution_count": 62,
   "metadata": {},
   "outputs": [],
   "source": [
    "from selenium import webdriver\n",
    "import pandas as pd\n",
    "from selenium.webdriver.support.ui import WebDriverWait\n",
    "from selenium.webdriver.support import expected_conditions as EC\n",
    "from selenium.webdriver.common.by import By\n",
    "from datetime import date, datetime\n",
    "from selenium.common.exceptions import TimeoutException\n",
    "import time"
   ]
  },
  {
   "cell_type": "code",
   "execution_count": 155,
   "metadata": {},
   "outputs": [],
   "source": [
    "driver = webdriver.Chrome()\n",
    "page = driver.get(\"https://www.adapt.io/directory/industry/telecommunications/A-1\")\n"
   ]
  },
  {
   "cell_type": "code",
   "execution_count": 122,
   "metadata": {},
   "outputs": [],
   "source": [
    "links_of_alphabets = []\n",
    "alphabets = driver.find_elements_by_class_name(\"DirectoryTopInfo_linkItemWrapper__2MyQQ\")\n",
    "\n",
    "# collect links (href) alphabetically(A, B, .... Z)\n",
    "for link in alphabets:\n",
    "    links_of_alphabets.append(link.find_elements_by_tag_name('a')[0].get_attribute('href'))"
   ]
  },
  {
   "cell_type": "code",
   "execution_count": 128,
   "metadata": {},
   "outputs": [
    {
     "name": "stdout",
     "output_type": "stream",
     "text": [
      "https://www.adapt.io/directory/industry/telecommunications/A-1\n",
      "https://www.adapt.io/directory/industry/telecommunications/B-1\n",
      "https://www.adapt.io/directory/industry/telecommunications/C-1\n",
      "https://www.adapt.io/directory/industry/telecommunications/D-1\n",
      "https://www.adapt.io/directory/industry/telecommunications/E-1\n"
     ]
    }
   ],
   "source": [
    "# print first 5 link text\n",
    "for link in links_of_alphabets[:5]:\n",
    "    print(link)"
   ]
  },
  {
   "cell_type": "code",
   "execution_count": 129,
   "metadata": {},
   "outputs": [],
   "source": [
    "# this function collects the source name and source url for each company listed on the page\n",
    "\n",
    "def get_company_index_data_of_single_page():\n",
    "    number_of_attempts = 0\n",
    "    should_try = 5\n",
    "    list_of_companies_in_single_page = []\n",
    "    \n",
    "    while (number_of_attempts <= should_try):\n",
    "        try:\n",
    "            time.sleep(3)\n",
    "            companies = driver.find_elements_by_class_name(\"DirectoryList_linkItemWrapper__3F2UE\")\n",
    "\n",
    "            for company in companies:\n",
    "                company_dict = {\n",
    "                    \"company_name\":company.text,\n",
    "                    \"source_url\":company.find_elements_by_tag_name('a')[0].get_attribute('href')\n",
    "                }\n",
    "                # append the dictionary into a list\n",
    "                list_of_companies_in_single_page.append(company_dict)\n",
    "\n",
    "            if len(companies) == len(list_of_companies_in_single_page):\n",
    "                for company in list_of_companies_in_single_page:\n",
    "                    list_of_companies.append(company)\n",
    "                break\n",
    "            else:\n",
    "                print(\"could not collect info of {} companies present in the page: \", len(companies))\n",
    "                number_of_attempts += 1\n",
    "                continue\n",
    "                \n",
    "        except Exception as exc:\n",
    "            print(exc)\n",
    "            "
   ]
  },
  {
   "cell_type": "code",
   "execution_count": 145,
   "metadata": {},
   "outputs": [],
   "source": [
    "# this function checks if a link named Next is present in the page or not.\n",
    "\n",
    "def click_next_button():\n",
    "    attempt = 0\n",
    "    while(attempt < 4):\n",
    "        try:\n",
    "            driver.execute_script(\"window.scrollTo(0, document.body.scrollHeight);\")\n",
    "            next_button = driver.find_element_by_link_text('Next')\n",
    "            \n",
    "            # If the next button is found, then click on the Next link\n",
    "            if next_button:\n",
    "                next_button.click()\n",
    "                return \"continue\"\n",
    "            else:\n",
    "                raise Exception\n",
    "        except Exception as exc:\n",
    "            attempt += 1\n",
    "            time.sleep(2)\n",
    "        \n",
    "    return \"break\""
   ]
  },
  {
   "cell_type": "code",
   "execution_count": 149,
   "metadata": {
    "scrolled": true
   },
   "outputs": [
    {
     "name": "stdout",
     "output_type": "stream",
     "text": [
      "****    got info of 412 companies from A-1   ****\n",
      "\n",
      "****    got info of 175 companies from B-1   ****\n",
      "\n",
      "****    got info of 443 companies from C-1   ****\n",
      "\n",
      "****    got info of 145 companies from D-1   ****\n",
      "\n",
      "****    got info of 160 companies from E-1   ****\n",
      "\n",
      "****    got info of 130 companies from F-1   ****\n",
      "\n",
      "****    got info of 166 companies from G-1   ****\n",
      "\n",
      "****    got info of 89 companies from H-1   ****\n",
      "\n",
      "****    got info of 172 companies from I-1   ****\n",
      "\n",
      "****    got info of 33 companies from J-1   ****\n",
      "\n",
      "****    got info of 65 companies from K-1   ****\n",
      "\n",
      "****    got info of 125 companies from L-1   ****\n",
      "\n",
      "****    got info of 271 companies from M-1   ****\n",
      "\n",
      "****    got info of 191 companies from N-1   ****\n",
      "\n",
      "****    got info of 112 companies from O-1   ****\n",
      "\n",
      "****    got info of 222 companies from P-1   ****\n",
      "\n",
      "****    got info of 23 companies from Q-1   ****\n",
      "\n",
      "****    got info of 144 companies from R-1   ****\n",
      "\n",
      "****    got info of 395 companies from S-1   ****\n",
      "\n",
      "****    got info of 640 companies from T-1   ****\n",
      "\n",
      "****    got info of 69 companies from U-1   ****\n",
      "\n",
      "****    got info of 159 companies from V-1   ****\n",
      "\n",
      "****    got info of 159 companies from W-1   ****\n",
      "\n",
      "****    got info of 28 companies from X-1   ****\n",
      "\n",
      "****    got info of 15 companies from Y-1   ****\n",
      "\n",
      "****    got info of 27 companies from Z-1   ****\n",
      "\n",
      "finally, got info of total 4570 companies\n"
     ]
    }
   ],
   "source": [
    "list_of_companies = []\n",
    "number_of_companies_present_in_single_category = 0\n",
    "\n",
    "\n",
    "# start getting each link alphabetically\n",
    "for link in links_of_alphabets:\n",
    "    driver = webdriver.Chrome()\n",
    "    page = driver.get(link)\n",
    "    \n",
    "    while(1):\n",
    "        number_of_companies = get_company_index_data_of_single_page()\n",
    "\n",
    "        # call click_next_button function to look for the link to go to the Next page.\n",
    "        # If found, then click on it and start collecting information.\n",
    "        # otherwise, close the window and go to next URL.\n",
    "        state = click_next_button()\n",
    "        if state == \"continue\":\n",
    "            continue\n",
    "        else:\n",
    "            break\n",
    "            \n",
    "    print(\"****    got info of {} companies from {}   ****\\n\".format(len(list_of_companies) - number_of_companies_present_in_single_category, link[-3:]))\n",
    "    number_of_companies_present_in_single_category = len(list_of_companies)\n",
    "    driver.close()\n",
    "\n",
    "    \n",
    "print(\"finally, got info of total {} companies\".format(len(list_of_companies)))\n"
   ]
  },
  {
   "cell_type": "code",
   "execution_count": 154,
   "metadata": {},
   "outputs": [
    {
     "data": {
      "text/plain": [
       "[{'company_name': 'A + Communications and Security',\n",
       "  'source_url': 'https://www.adapt.io/company/a--communications-and-security'},\n",
       " {'company_name': 'A&A Technology Group',\n",
       "  'source_url': 'https://www.adapt.io/company/a-a-technology-group'},\n",
       " {'company_name': 'A Better Answer',\n",
       "  'source_url': 'https://www.adapt.io/company/a-better-answer-4'},\n",
       " {'company_name': 'A Cheerful Giver',\n",
       "  'source_url': 'https://www.adapt.io/company/a-cheerful-giver-inc-1'},\n",
       " {'company_name': 'A-CTI',\n",
       "  'source_url': 'https://www.adapt.io/company/a-cti-1'}]"
      ]
     },
     "execution_count": 154,
     "metadata": {},
     "output_type": "execute_result"
    }
   ],
   "source": [
    "# print first 5 companies\n",
    "\n",
    "list_of_companies[:5]"
   ]
  },
  {
   "cell_type": "code",
   "execution_count": 152,
   "metadata": {},
   "outputs": [],
   "source": [
    "import json\n",
    "\n",
    "# function to add to JSON \n",
    "def write_json(data, filename='company_index.json'): \n",
    "    with open(filename,'w') as f: \n",
    "        json.dump(data, f, indent=4) \n",
    "      \n",
    "write_json(list_of_companies) \n",
    "# print(all_companies)"
   ]
  }
 ],
 "metadata": {
  "kernelspec": {
   "display_name": "Python 3",
   "language": "python",
   "name": "python3"
  },
  "language_info": {
   "codemirror_mode": {
    "name": "ipython",
    "version": 3
   },
   "file_extension": ".py",
   "mimetype": "text/x-python",
   "name": "python",
   "nbconvert_exporter": "python",
   "pygments_lexer": "ipython3",
   "version": "3.8.3"
  }
 },
 "nbformat": 4,
 "nbformat_minor": 4
}
