{
 "cells": [
  {
   "cell_type": "code",
   "execution_count": 8,
   "metadata": {},
   "outputs": [],
   "source": [
    "import pymongo\n",
    "import json"
   ]
  },
  {
   "cell_type": "code",
   "execution_count": 17,
   "metadata": {},
   "outputs": [
    {
     "data": {
      "text/plain": [
       "[{'company_name': 'A + Communications and Security',\n",
       "  'source_url': 'https://www.adapt.io/company/a--communications-and-security'},\n",
       " {'company_name': 'A&A Technology Group',\n",
       "  'source_url': 'https://www.adapt.io/company/a-a-technology-group'}]"
      ]
     },
     "execution_count": 17,
     "metadata": {},
     "output_type": "execute_result"
    }
   ],
   "source": [
    "# load the data of company_index.json file in a list\n",
    "\n",
    "with open('company_index.json') as json_file:\n",
    "    company_index = json.load(json_file)\n",
    "\n",
    "company_index[:2]"
   ]
  },
  {
   "cell_type": "code",
   "execution_count": 18,
   "metadata": {},
   "outputs": [
    {
     "data": {
      "text/plain": [
       "[{'company_revenue': '$0 - 1M',\n",
       "  'company_employee_size': '25 - 100',\n",
       "  'company_industry': 'Telecommunications',\n",
       "  'company_location': 'Des Moines, Iowa, United States',\n",
       "  'company_name': 'A + Communications and Security',\n",
       "  'company_website': 'http://www.onlineaplus.com',\n",
       "  'company_webdomain': 'onlineaplus.com',\n",
       "  'contact_details': [{'contact_name': 'Cory Vitzthum',\n",
       "    'contact_jobtitle': 'General Manager',\n",
       "    'contact_email_domain': 'onlineaplus.com',\n",
       "    'contact_profile_link': 'https://www.adapt.io/contact/cory-vitzthum/127392779',\n",
       "    'contact_department': 'Finance & Administration',\n",
       "    'contact_location': 'Des Moines, Iowa, United States'},\n",
       "   {'contact_name': 'Cory Gray',\n",
       "    'contact_jobtitle': 'Installation/Service Manager',\n",
       "    'contact_email_domain': 'onlineaplus.com',\n",
       "    'contact_profile_link': 'https://www.adapt.io/contact/cory-gray/966920390',\n",
       "    'contact_department': 'Support',\n",
       "    'contact_location': 'Des Moines, Iowa, United States'},\n",
       "   {'contact_name': 'Scott Moon',\n",
       "    'contact_jobtitle': 'Project Manager',\n",
       "    'contact_email_domain': 'onlineaplus.com',\n",
       "    'contact_profile_link': 'https://www.adapt.io/contact/scott-moon/702526780',\n",
       "    'contact_department': 'Operations',\n",
       "    'contact_location': 'Des Moines, Iowa, United States'},\n",
       "   {'contact_name': 'Linda Wheeler',\n",
       "    'contact_jobtitle': 'Support Service Supervisor',\n",
       "    'contact_email_domain': 'onlineaplus.com',\n",
       "    'contact_profile_link': 'https://www.adapt.io/contact/linda-wheeler/729323638',\n",
       "    'contact_department': 'Support',\n",
       "    'contact_location': 'Des Moines, Iowa, United States'},\n",
       "   {'contact_name': 'Troy Mcintosh',\n",
       "    'contact_jobtitle': 'Sales/Design for Audio/Video Systems',\n",
       "    'contact_email_domain': 'onlineaplus.com',\n",
       "    'contact_profile_link': 'https://www.adapt.io/contact/troy-mcintosh/958633502',\n",
       "    'contact_department': 'IT & IS',\n",
       "    'contact_location': 'Des Moines, Iowa, United States'},\n",
       "   {'contact_name': 'Spenser Hammer',\n",
       "    'contact_jobtitle': 'Tech',\n",
       "    'contact_email_domain': 'onlineaplus.com',\n",
       "    'contact_profile_link': 'https://www.adapt.io/contact/spenser-hammer/245231269',\n",
       "    'contact_department': 'Other',\n",
       "    'contact_location': 'Ankeny, Iowa, United States'},\n",
       "   {'contact_name': 'Zach Sobek',\n",
       "    'contact_jobtitle': 'Communication Technician',\n",
       "    'contact_email_domain': 'onlineaplus.com',\n",
       "    'contact_profile_link': 'https://www.adapt.io/contact/zach-sobek/859477935',\n",
       "    'contact_department': 'IT & IS',\n",
       "    'contact_location': 'Des Moines, Iowa, United States'},\n",
       "   {'contact_name': 'Matthew Phipps',\n",
       "    'contact_jobtitle': 'Communications Technician',\n",
       "    'contact_email_domain': 'onlineaplus.com',\n",
       "    'contact_profile_link': 'https://www.adapt.io/contact/matthew-phipps/135083308',\n",
       "    'contact_department': 'IT & IS',\n",
       "    'contact_location': 'Des Moines, Iowa, United States'},\n",
       "   {'contact_name': 'Brad Pellegrino',\n",
       "    'contact_jobtitle': 'Construction Integrator',\n",
       "    'contact_email_domain': 'onlineaplus.com',\n",
       "    'contact_profile_link': 'https://www.adapt.io/contact/brad-pellegrino/155552436',\n",
       "    'contact_department': 'Other',\n",
       "    'contact_location': 'Des Moines, Iowa, United States'}]},\n",
       " {'company_revenue': '$1 - 10M',\n",
       "  'company_employee_size': '25 - 100',\n",
       "  'company_industry': 'Telecommunications',\n",
       "  'company_location': 'Waco, Texas, United States',\n",
       "  'company_name': 'A&A Technology Group',\n",
       "  'company_website': 'http://www.aatg.net',\n",
       "  'company_webdomain': 'aatg.net',\n",
       "  'contact_details': [{'contact_name': 'Phil Neely',\n",
       "    'contact_jobtitle': 'President',\n",
       "    'contact_email_domain': 'aatg.net',\n",
       "    'contact_profile_link': 'https://www.adapt.io/contact/phillip-neely/790692776',\n",
       "    'contact_department': 'Finance & Administration',\n",
       "    'contact_location': 'Waco, Texas, United States'},\n",
       "   {'contact_name': 'Darrin Guffy',\n",
       "    'contact_jobtitle': 'Service',\n",
       "    'contact_email_domain': 'aatg.net',\n",
       "    'contact_profile_link': 'https://www.adapt.io/contact/darrin-guffy/989736221',\n",
       "    'contact_department': 'Support',\n",
       "    'contact_location': 'Austin, Texas, United States'},\n",
       "   {'contact_name': 'Jp Miller',\n",
       "    'contact_jobtitle': 'Accounting / Operations',\n",
       "    'contact_email_domain': 'aatg.net',\n",
       "    'contact_profile_link': 'https://www.adapt.io/contact/jp-miller/838788103',\n",
       "    'contact_department': 'Operations',\n",
       "    'contact_location': 'Austin, Texas, United States'},\n",
       "   {'contact_name': 'Alan Hummon',\n",
       "    'contact_jobtitle': 'Vice President',\n",
       "    'contact_email_domain': 'aatg.net',\n",
       "    'contact_profile_link': 'https://www.adapt.io/contact/alan-hummon/256192970',\n",
       "    'contact_department': 'Other',\n",
       "    'contact_location': 'Waco, Texas, United States'},\n",
       "   {'contact_name': 'Charles Pickering',\n",
       "    'contact_jobtitle': 'Service Manager',\n",
       "    'contact_email_domain': 'aatg.net',\n",
       "    'contact_profile_link': 'https://www.adapt.io/contact/charles-pickering/239404017',\n",
       "    'contact_department': 'Support',\n",
       "    'contact_location': 'Waco, Texas, United States'},\n",
       "   {'contact_name': 'Bob Krick',\n",
       "    'contact_jobtitle': 'Manager, Existing Customer Base',\n",
       "    'contact_email_domain': 'aatg.net',\n",
       "    'contact_profile_link': 'https://www.adapt.io/contact/bob-krick/676101421',\n",
       "    'contact_department': 'Support',\n",
       "    'contact_location': 'Waco, Texas, United States'},\n",
       "   {'contact_name': 'Phil Anderson',\n",
       "    'contact_jobtitle': 'Serveilance Systems and Telecommunications',\n",
       "    'contact_email_domain': 'aatg.net',\n",
       "    'contact_profile_link': 'https://www.adapt.io/contact/phil-anderson/641020426',\n",
       "    'contact_department': 'IT & IS',\n",
       "    'contact_location': 'Austin, Texas, United States'},\n",
       "   {'contact_name': 'William Dixson',\n",
       "    'contact_jobtitle': 'Service Coordinator/Support Tech I',\n",
       "    'contact_email_domain': 'aatg.net',\n",
       "    'contact_profile_link': 'https://www.adapt.io/contact/william-dixson/172318111',\n",
       "    'contact_department': 'Support',\n",
       "    'contact_location': 'Waco, Texas, United States'},\n",
       "   {'contact_name': 'Matt Hummon',\n",
       "    'contact_jobtitle': 'Systems Engineer',\n",
       "    'contact_email_domain': 'aatg.net',\n",
       "    'contact_profile_link': 'https://www.adapt.io/contact/matt-hummon/842292047',\n",
       "    'contact_department': 'IT & IS',\n",
       "    'contact_location': 'Waco, Texas, United States'}]}]"
      ]
     },
     "execution_count": 18,
     "metadata": {},
     "output_type": "execute_result"
    }
   ],
   "source": [
    "# load the data of company_profile.json file in a list\n",
    "\n",
    "with open('company_profiles.json') as json_file:\n",
    "    company_profiles = json.load(json_file)\n",
    "\n",
    "company_profiles[:2]"
   ]
  },
  {
   "cell_type": "code",
   "execution_count": 24,
   "metadata": {},
   "outputs": [],
   "source": [
    "#Establishing a Connection\n",
    "\n",
    "myclient = pymongo.MongoClient(\"mongodb://localhost:27017/\")\n",
    "database = myclient[\"leadbook\"]"
   ]
  },
  {
   "cell_type": "code",
   "execution_count": 25,
   "metadata": {},
   "outputs": [],
   "source": [
    "# inserting company index data into database\n",
    "\n",
    "# creating a collection named company_list to save data of company_index.json\n",
    "collection = database[\"company_index\"]\n",
    "company_index = collection.insert_many(company_index)"
   ]
  },
  {
   "cell_type": "code",
   "execution_count": 26,
   "metadata": {},
   "outputs": [],
   "source": [
    "# inserting company profiles data into database\n",
    "\n",
    "# creating a collection named company_details to save data of company_profiles.json\n",
    "collection = database[\"company_profiles\"]\n",
    "company_profiles = collection.insert_many(company_profiles)"
   ]
  },
  {
   "cell_type": "code",
   "execution_count": null,
   "metadata": {},
   "outputs": [],
   "source": []
  }
 ],
 "metadata": {
  "kernelspec": {
   "display_name": "Python 3",
   "language": "python",
   "name": "python3"
  },
  "language_info": {
   "codemirror_mode": {
    "name": "ipython",
    "version": 3
   },
   "file_extension": ".py",
   "mimetype": "text/x-python",
   "name": "python",
   "nbconvert_exporter": "python",
   "pygments_lexer": "ipython3",
   "version": "3.8.3"
  }
 },
 "nbformat": 4,
 "nbformat_minor": 4
}
